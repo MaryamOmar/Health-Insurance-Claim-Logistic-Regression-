{
 "cells": [
  {
   "cell_type": "markdown",
   "id": "c1ead49f",
   "metadata": {},
   "source": [
    "# Health Insurance Claim\n",
    "\n",
    "### DESCRIPTION\n",
    "\n",
    "Health insurance has become an indispensable part of our lives in recent years, and people are paying for it so that they are covered in the event of an accident or other unpredicted factors.\n",
    "You are provided with medical costs dataset that has features such as Age, Cost, BMI.\n",
    "\n",
    "### Objective:\n",
    "\n",
    "Determine the factors that contribute the most in the calculation of insurance costs.\n",
    "Predict the health Insurance claim.\n",
    "\n",
    "مطلوب مني: اشوف العوامل الي تاثر في حساب قيمة التأمين ( تحليل وصفي) \n",
    "بعدين أسوي مودل يتوقع الموافقة عالتأمين\n",
    "\n",
    "### Actions to Perform:\n",
    "\n",
    "1- Find the correlation of every pair of features (and the outcome variable).\n",
    "\n",
    "2- Visualize the correlations using a heatmap.\n",
    "\n",
    "3- Normalize your inputs.\n",
    "\n",
    "4- Use the test data to find out the accuracy of the model.\n",
    "\n",
    "5- Visualize how your model uses the different features and which features have a greater effect.\n"
   ]
  },
  {
   "cell_type": "code",
   "execution_count": 4,
   "id": "5e607fe2",
   "metadata": {},
   "outputs": [],
   "source": [
    "import pandas as pd \n",
    "import numpy as np\n",
    "import seaborn as sns \n",
    "import matplotlib.pyplot as plt\n",
    "%matplotlib inline\n",
    "\n",
    "import warnings\n",
    "warnings.filterwarnings('ignore')"
   ]
  },
  {
   "cell_type": "code",
   "execution_count": 59,
   "id": "3eec4d1b",
   "metadata": {},
   "outputs": [],
   "source": [
    "df= pd.read_csv('insurance2.csv')"
   ]
  },
  {
   "cell_type": "markdown",
   "id": "7a4461ec",
   "metadata": {},
   "source": [
    "## Exploring The Data"
   ]
  },
  {
   "cell_type": "code",
   "execution_count": 60,
   "id": "4b290d5c",
   "metadata": {},
   "outputs": [
    {
     "data": {
      "text/html": [
       "<div>\n",
       "<style scoped>\n",
       "    .dataframe tbody tr th:only-of-type {\n",
       "        vertical-align: middle;\n",
       "    }\n",
       "\n",
       "    .dataframe tbody tr th {\n",
       "        vertical-align: top;\n",
       "    }\n",
       "\n",
       "    .dataframe thead th {\n",
       "        text-align: right;\n",
       "    }\n",
       "</style>\n",
       "<table border=\"1\" class=\"dataframe\">\n",
       "  <thead>\n",
       "    <tr style=\"text-align: right;\">\n",
       "      <th></th>\n",
       "      <th>age</th>\n",
       "      <th>sex</th>\n",
       "      <th>bmi</th>\n",
       "      <th>children</th>\n",
       "      <th>smoker</th>\n",
       "      <th>region</th>\n",
       "      <th>charges</th>\n",
       "      <th>insuranceclaim</th>\n",
       "    </tr>\n",
       "  </thead>\n",
       "  <tbody>\n",
       "    <tr>\n",
       "      <th>451</th>\n",
       "      <td>30</td>\n",
       "      <td>1</td>\n",
       "      <td>24.13</td>\n",
       "      <td>1</td>\n",
       "      <td>0</td>\n",
       "      <td>1</td>\n",
       "      <td>4032.2407</td>\n",
       "      <td>0</td>\n",
       "    </tr>\n",
       "    <tr>\n",
       "      <th>120</th>\n",
       "      <td>44</td>\n",
       "      <td>1</td>\n",
       "      <td>37.10</td>\n",
       "      <td>2</td>\n",
       "      <td>0</td>\n",
       "      <td>3</td>\n",
       "      <td>7740.3370</td>\n",
       "      <td>1</td>\n",
       "    </tr>\n",
       "    <tr>\n",
       "      <th>111</th>\n",
       "      <td>55</td>\n",
       "      <td>0</td>\n",
       "      <td>29.70</td>\n",
       "      <td>2</td>\n",
       "      <td>0</td>\n",
       "      <td>3</td>\n",
       "      <td>11881.3580</td>\n",
       "      <td>1</td>\n",
       "    </tr>\n",
       "    <tr>\n",
       "      <th>73</th>\n",
       "      <td>58</td>\n",
       "      <td>1</td>\n",
       "      <td>32.01</td>\n",
       "      <td>1</td>\n",
       "      <td>0</td>\n",
       "      <td>2</td>\n",
       "      <td>11946.6259</td>\n",
       "      <td>1</td>\n",
       "    </tr>\n",
       "    <tr>\n",
       "      <th>794</th>\n",
       "      <td>39</td>\n",
       "      <td>0</td>\n",
       "      <td>31.92</td>\n",
       "      <td>2</td>\n",
       "      <td>0</td>\n",
       "      <td>1</td>\n",
       "      <td>7209.4918</td>\n",
       "      <td>0</td>\n",
       "    </tr>\n",
       "  </tbody>\n",
       "</table>\n",
       "</div>"
      ],
      "text/plain": [
       "     age  sex    bmi  children  smoker  region     charges  insuranceclaim\n",
       "451   30    1  24.13         1       0       1   4032.2407               0\n",
       "120   44    1  37.10         2       0       3   7740.3370               1\n",
       "111   55    0  29.70         2       0       3  11881.3580               1\n",
       "73    58    1  32.01         1       0       2  11946.6259               1\n",
       "794   39    0  31.92         2       0       1   7209.4918               0"
      ]
     },
     "execution_count": 60,
     "metadata": {},
     "output_type": "execute_result"
    }
   ],
   "source": [
    "df.sample(5)"
   ]
  },
  {
   "cell_type": "code",
   "execution_count": 10,
   "id": "0fbaf69d",
   "metadata": {},
   "outputs": [
    {
     "data": {
      "text/plain": [
       "age               0\n",
       "sex               0\n",
       "bmi               0\n",
       "children          0\n",
       "smoker            0\n",
       "region            0\n",
       "charges           0\n",
       "insuranceclaim    0\n",
       "dtype: int64"
      ]
     },
     "execution_count": 10,
     "metadata": {},
     "output_type": "execute_result"
    }
   ],
   "source": [
    "df.isna().sum()"
   ]
  },
  {
   "cell_type": "code",
   "execution_count": 12,
   "id": "0b6ce129",
   "metadata": {},
   "outputs": [
    {
     "name": "stdout",
     "output_type": "stream",
     "text": [
      "<class 'pandas.core.frame.DataFrame'>\n",
      "RangeIndex: 1338 entries, 0 to 1337\n",
      "Data columns (total 8 columns):\n",
      " #   Column          Non-Null Count  Dtype  \n",
      "---  ------          --------------  -----  \n",
      " 0   age             1338 non-null   int64  \n",
      " 1   sex             1338 non-null   int64  \n",
      " 2   bmi             1338 non-null   float64\n",
      " 3   children        1338 non-null   int64  \n",
      " 4   smoker          1338 non-null   int64  \n",
      " 5   region          1338 non-null   int64  \n",
      " 6   charges         1338 non-null   float64\n",
      " 7   insuranceclaim  1338 non-null   int64  \n",
      "dtypes: float64(2), int64(6)\n",
      "memory usage: 83.8 KB\n"
     ]
    }
   ],
   "source": [
    "df.info()"
   ]
  },
  {
   "cell_type": "code",
   "execution_count": 13,
   "id": "d89de552",
   "metadata": {},
   "outputs": [
    {
     "data": {
      "text/plain": [
       "<AxesSubplot:>"
      ]
     },
     "execution_count": 13,
     "metadata": {},
     "output_type": "execute_result"
    },
    {
     "data": {
      "image/png": "[encoded data removed]",
      "text/plain": [
       "<Figure size 864x432 with 2 Axes>"
      ]
     },
     "metadata": {
      "needs_background": "light"
     },
     "output_type": "display_data"
    }
   ],
   "source": [
    "plt.figure(figsize = (12,6))\n",
    "sns.heatmap(df.corr(),annot = True)"
   ]
  },
  {
   "cell_type": "code",
   "execution_count": 61,
   "id": "1549e6d3",
   "metadata": {},
   "outputs": [],
   "source": [
    "#Transform Dummy Variable Region\n",
    "df['isNorthEast'] = np.where(df['region'] == 0,1,0) #np.where(condition,x,y) for condition where true yield x as yield y\n",
    "df['isNorthWest'] = np.where(df['region'] == 1,1,0)\n",
    "df['isSouthEast'] = np.where(df['region'] == 2,1,0)\n",
    "df['isSouthWest'] = np.where(df['region'] == 3,1,0)\n",
    "\n",
    "#Drop the region column\n",
    "df = df.drop('region', axis = 1)"
   ]
  },
  {
   "cell_type": "code",
   "execution_count": 62,
   "id": "80fe4996",
   "metadata": {},
   "outputs": [
    {
     "data": {
      "text/html": [
       "<div>\n",
       "<style scoped>\n",
       "    .dataframe tbody tr th:only-of-type {\n",
       "        vertical-align: middle;\n",
       "    }\n",
       "\n",
       "    .dataframe tbody tr th {\n",
       "        vertical-align: top;\n",
       "    }\n",
       "\n",
       "    .dataframe thead th {\n",
       "        text-align: right;\n",
       "    }\n",
       "</style>\n",
       "<table border=\"1\" class=\"dataframe\">\n",
       "  <thead>\n",
       "    <tr style=\"text-align: right;\">\n",
       "      <th></th>\n",
       "      <th>age</th>\n",
       "      <th>sex</th>\n",
       "      <th>bmi</th>\n",
       "      <th>children</th>\n",
       "      <th>smoker</th>\n",
       "      <th>charges</th>\n",
       "      <th>insuranceclaim</th>\n",
       "      <th>isNorthEast</th>\n",
       "      <th>isNorthWest</th>\n",
       "      <th>isSouthEast</th>\n",
       "      <th>isSouthWest</th>\n",
       "    </tr>\n",
       "  </thead>\n",
       "  <tbody>\n",
       "    <tr>\n",
       "      <th>1105</th>\n",
       "      <td>54</td>\n",
       "      <td>0</td>\n",
       "      <td>31.240</td>\n",
       "      <td>0</td>\n",
       "      <td>0</td>\n",
       "      <td>10338.93160</td>\n",
       "      <td>1</td>\n",
       "      <td>0</td>\n",
       "      <td>0</td>\n",
       "      <td>1</td>\n",
       "      <td>0</td>\n",
       "    </tr>\n",
       "    <tr>\n",
       "      <th>1303</th>\n",
       "      <td>43</td>\n",
       "      <td>1</td>\n",
       "      <td>27.800</td>\n",
       "      <td>0</td>\n",
       "      <td>1</td>\n",
       "      <td>37829.72420</td>\n",
       "      <td>1</td>\n",
       "      <td>0</td>\n",
       "      <td>0</td>\n",
       "      <td>0</td>\n",
       "      <td>1</td>\n",
       "    </tr>\n",
       "    <tr>\n",
       "      <th>1225</th>\n",
       "      <td>33</td>\n",
       "      <td>0</td>\n",
       "      <td>39.820</td>\n",
       "      <td>1</td>\n",
       "      <td>0</td>\n",
       "      <td>4795.65680</td>\n",
       "      <td>0</td>\n",
       "      <td>0</td>\n",
       "      <td>0</td>\n",
       "      <td>1</td>\n",
       "      <td>0</td>\n",
       "    </tr>\n",
       "    <tr>\n",
       "      <th>29</th>\n",
       "      <td>31</td>\n",
       "      <td>1</td>\n",
       "      <td>36.300</td>\n",
       "      <td>2</td>\n",
       "      <td>1</td>\n",
       "      <td>38711.00000</td>\n",
       "      <td>1</td>\n",
       "      <td>0</td>\n",
       "      <td>0</td>\n",
       "      <td>0</td>\n",
       "      <td>1</td>\n",
       "    </tr>\n",
       "    <tr>\n",
       "      <th>505</th>\n",
       "      <td>37</td>\n",
       "      <td>1</td>\n",
       "      <td>30.875</td>\n",
       "      <td>3</td>\n",
       "      <td>0</td>\n",
       "      <td>6796.86325</td>\n",
       "      <td>0</td>\n",
       "      <td>0</td>\n",
       "      <td>1</td>\n",
       "      <td>0</td>\n",
       "      <td>0</td>\n",
       "    </tr>\n",
       "  </tbody>\n",
       "</table>\n",
       "</div>"
      ],
      "text/plain": [
       "      age  sex     bmi  children  smoker      charges  insuranceclaim  \\\n",
       "1105   54    0  31.240         0       0  10338.93160               1   \n",
       "1303   43    1  27.800         0       1  37829.72420               1   \n",
       "1225   33    0  39.820         1       0   4795.65680               0   \n",
       "29     31    1  36.300         2       1  38711.00000               1   \n",
       "505    37    1  30.875         3       0   6796.86325               0   \n",
       "\n",
       "      isNorthEast  isNorthWest  isSouthEast  isSouthWest  \n",
       "1105            0            0            1            0  \n",
       "1303            0            0            0            1  \n",
       "1225            0            0            1            0  \n",
       "29              0            0            0            1  \n",
       "505             0            1            0            0  "
      ]
     },
     "execution_count": 62,
     "metadata": {},
     "output_type": "execute_result"
    }
   ],
   "source": [
    "df.sample(5)"
   ]
  },
  {
   "cell_type": "markdown",
   "id": "5b3f30f0",
   "metadata": {},
   "source": [
    "from the previous heatmap, we notice that theres a very weak correlation between sex and claim, also a weak one between age and inssurance claim, \n",
    "the stronggest positive correlation is  with bmi, smoking, and the charges. \n",
    "there's also a negative correlation between having children and claim\n"
   ]
  },
  {
   "cell_type": "code",
   "execution_count": 64,
   "id": "2f387fc4",
   "metadata": {},
   "outputs": [],
   "source": [
    "means = np.mean(df, axis=0)\n",
    "stds = np.std(df, axis=0)\n",
    "\n",
    "col=['age','bmi', 'children', 'charges']\n",
    "\n",
    "df[col] = (df[col] - df[col].mean()) / df[col].std()\n"
   ]
  },
  {
   "cell_type": "code",
   "execution_count": 65,
   "id": "b64ce0de",
   "metadata": {},
   "outputs": [
    {
     "data": {
      "text/html": [
       "<div>\n",
       "<style scoped>\n",
       "    .dataframe tbody tr th:only-of-type {\n",
       "        vertical-align: middle;\n",
       "    }\n",
       "\n",
       "    .dataframe tbody tr th {\n",
       "        vertical-align: top;\n",
       "    }\n",
       "\n",
       "    .dataframe thead th {\n",
       "        text-align: right;\n",
       "    }\n",
       "</style>\n",
       "<table border=\"1\" class=\"dataframe\">\n",
       "  <thead>\n",
       "    <tr style=\"text-align: right;\">\n",
       "      <th></th>\n",
       "      <th>age</th>\n",
       "      <th>sex</th>\n",
       "      <th>bmi</th>\n",
       "      <th>children</th>\n",
       "      <th>smoker</th>\n",
       "      <th>charges</th>\n",
       "      <th>insuranceclaim</th>\n",
       "      <th>isNorthEast</th>\n",
       "      <th>isNorthWest</th>\n",
       "      <th>isSouthEast</th>\n",
       "      <th>isSouthWest</th>\n",
       "    </tr>\n",
       "  </thead>\n",
       "  <tbody>\n",
       "    <tr>\n",
       "      <th>0</th>\n",
       "      <td>-1.438227</td>\n",
       "      <td>0</td>\n",
       "      <td>-0.453151</td>\n",
       "      <td>-0.908274</td>\n",
       "      <td>1</td>\n",
       "      <td>0.298472</td>\n",
       "      <td>1</td>\n",
       "      <td>0</td>\n",
       "      <td>0</td>\n",
       "      <td>0</td>\n",
       "      <td>1</td>\n",
       "    </tr>\n",
       "    <tr>\n",
       "      <th>1</th>\n",
       "      <td>-1.509401</td>\n",
       "      <td>1</td>\n",
       "      <td>0.509431</td>\n",
       "      <td>-0.078738</td>\n",
       "      <td>0</td>\n",
       "      <td>-0.953333</td>\n",
       "      <td>1</td>\n",
       "      <td>0</td>\n",
       "      <td>0</td>\n",
       "      <td>1</td>\n",
       "      <td>0</td>\n",
       "    </tr>\n",
       "    <tr>\n",
       "      <th>2</th>\n",
       "      <td>-0.797655</td>\n",
       "      <td>1</td>\n",
       "      <td>0.383164</td>\n",
       "      <td>1.580335</td>\n",
       "      <td>0</td>\n",
       "      <td>-0.728402</td>\n",
       "      <td>0</td>\n",
       "      <td>0</td>\n",
       "      <td>0</td>\n",
       "      <td>1</td>\n",
       "      <td>0</td>\n",
       "    </tr>\n",
       "    <tr>\n",
       "      <th>3</th>\n",
       "      <td>-0.441782</td>\n",
       "      <td>1</td>\n",
       "      <td>-1.305043</td>\n",
       "      <td>-0.908274</td>\n",
       "      <td>0</td>\n",
       "      <td>0.719574</td>\n",
       "      <td>0</td>\n",
       "      <td>0</td>\n",
       "      <td>1</td>\n",
       "      <td>0</td>\n",
       "      <td>0</td>\n",
       "    </tr>\n",
       "    <tr>\n",
       "      <th>4</th>\n",
       "      <td>-0.512957</td>\n",
       "      <td>1</td>\n",
       "      <td>-0.292447</td>\n",
       "      <td>-0.908274</td>\n",
       "      <td>0</td>\n",
       "      <td>-0.776512</td>\n",
       "      <td>1</td>\n",
       "      <td>0</td>\n",
       "      <td>1</td>\n",
       "      <td>0</td>\n",
       "      <td>0</td>\n",
       "    </tr>\n",
       "  </tbody>\n",
       "</table>\n",
       "</div>"
      ],
      "text/plain": [
       "        age  sex       bmi  children  smoker   charges  insuranceclaim  \\\n",
       "0 -1.438227    0 -0.453151 -0.908274       1  0.298472               1   \n",
       "1 -1.509401    1  0.509431 -0.078738       0 -0.953333               1   \n",
       "2 -0.797655    1  0.383164  1.580335       0 -0.728402               0   \n",
       "3 -0.441782    1 -1.305043 -0.908274       0  0.719574               0   \n",
       "4 -0.512957    1 -0.292447 -0.908274       0 -0.776512               1   \n",
       "\n",
       "   isNorthEast  isNorthWest  isSouthEast  isSouthWest  \n",
       "0            0            0            0            1  \n",
       "1            0            0            1            0  \n",
       "2            0            0            1            0  \n",
       "3            0            1            0            0  \n",
       "4            0            1            0            0  "
      ]
     },
     "execution_count": 65,
     "metadata": {},
     "output_type": "execute_result"
    }
   ],
   "source": [
    "df.head()"
   ]
  },
  {
   "cell_type": "code",
   "execution_count": 27,
   "id": "78910b3d",
   "metadata": {},
   "outputs": [],
   "source": [
    "from sklearn.model_selection import train_test_split\n",
    "from sklearn.linear_model import LogisticRegression"
   ]
  },
  {
   "cell_type": "code",
   "execution_count": 71,
   "id": "90bc8998",
   "metadata": {},
   "outputs": [],
   "source": [
    "col=['age', 'sex','bmi', 'children', 'smoker','isNorthEast','isNorthWest','isSouthEast','isSouthWest' , 'charges']\n",
    "target=['insuranceclaim']"
   ]
  },
  {
   "cell_type": "code",
   "execution_count": 72,
   "id": "130eef80",
   "metadata": {},
   "outputs": [],
   "source": [
    "xtrain,xtest,ytrain,ytest= train_test_split(df[col], df[target], test_size=0.2, random_state=0)"
   ]
  },
  {
   "cell_type": "code",
   "execution_count": 73,
   "id": "0dfd159d",
   "metadata": {},
   "outputs": [
    {
     "data": {
      "text/plain": [
       "LogisticRegression()"
      ]
     },
     "execution_count": 73,
     "metadata": {},
     "output_type": "execute_result"
    }
   ],
   "source": [
    "classifier= LogisticRegression()\n",
    "classifier.fit(xtrain,ytrain)"
   ]
  },
  {
   "cell_type": "code",
   "execution_count": 74,
   "id": "9bef6d00",
   "metadata": {},
   "outputs": [
    {
     "name": "stdout",
     "output_type": "stream",
     "text": [
      "accuracy =  91.04477611940298 %\n"
     ]
    }
   ],
   "source": [
    "accuracy = classifier.score(xtest, ytest)\n",
    "print(\"accuracy = \", accuracy * 100, \"%\")"
   ]
  },
  {
   "cell_type": "code",
   "execution_count": 75,
   "id": "775e6b22",
   "metadata": {},
   "outputs": [
    {
     "data": {
      "text/plain": [
       "Text(0.5, 0, 'Importance')"
      ]
     },
     "execution_count": 75,
     "metadata": {},
     "output_type": "execute_result"
    },
    {
     "data": {
      "image/png": "[encoded data removed]",
      "text/plain": [
       "<Figure size 792x432 with 1 Axes>"
      ]
     },
     "metadata": {
      "needs_background": "light"
     },
     "output_type": "display_data"
    }
   ],
   "source": [
    "coeff = list(classifier.coef_[0])\n",
    "labels = list(df[col])\n",
    "features = pd.DataFrame()\n",
    "features['Features'] = labels\n",
    "features['importance'] = coeff\n",
    "features.sort_values(by=['importance'], ascending=True, inplace=True)\n",
    "features['positive'] = features['importance'] > 0\n",
    "features.set_index('Features', inplace=True)\n",
    "features.importance.plot(kind='barh', figsize=(11, 6),color = features.positive.map({True: 'blue', False: 'red'}))\n",
    "plt.xlabel('Importance')"
   ]
  },
  {
   "cell_type": "code",
   "execution_count": null,
   "id": "e29c2762",
   "metadata": {},
   "outputs": [],
   "source": []
  }
 ],
 "metadata": {
  "kernelspec": {
   "display_name": "Python 3",
   "language": "python",
   "name": "python3"
  },
  "language_info": {
   "codemirror_mode": {
    "name": "ipython",
    "version": 3
   },
   "file_extension": ".py",
   "mimetype": "text/x-python",
   "name": "python",
   "nbconvert_exporter": "python",
   "pygments_lexer": "ipython3",
   "version": "3.8.8"
  }
 },
 "nbformat": 4,
 "nbformat_minor": 5
}
